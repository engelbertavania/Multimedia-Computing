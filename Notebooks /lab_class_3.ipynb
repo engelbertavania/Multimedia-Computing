{
  "nbformat": 4,
  "nbformat_minor": 0,
  "metadata": {
    "colab": {
      "provenance": [],
      "authorship_tag": "ABX9TyPmQ7TXzNQ/eF0zbBa1veEk",
      "include_colab_link": true
    },
    "kernelspec": {
      "name": "python3",
      "display_name": "Python 3"
    },
    "language_info": {
      "name": "python"
    }
  },
  "cells": [
    {
      "cell_type": "markdown",
      "metadata": {
        "id": "view-in-github",
        "colab_type": "text"
      },
      "source": [
        "<a href=\"https://colab.research.google.com/github/engelbertavania/Multimedia-Computing/blob/main/Notebooks%20/lab_class_3.ipynb\" target=\"_parent\"><img src=\"https://colab.research.google.com/assets/colab-badge.svg\" alt=\"Open In Colab\"/></a>"
      ]
    },
    {
      "cell_type": "markdown",
      "source": [
        "##Data Structures\n",
        "Data structures are essential for organizing, managing, and storing data in a program. Python provides built-in data structures like **Lists, Tuples, Sets, and Dictionaries** that offer different functionalities and use cases."
      ],
      "metadata": {
        "id": "m_n6zVu7SPjl"
      }
    },
    {
      "cell_type": "markdown",
      "source": [
        "##List\n",
        "Ordering: Lists are ordered collections.\n",
        "Mutability: Lists are mutable; they can be modified after creation.\n",
        "Duplicates: Lists allow duplicate elements.\n",
        "Syntax: Lists are created using square brackets **[]**.\n",
        "A common use case for lists is storing and accessing a collection of items in a specific order."
      ],
      "metadata": {
        "id": "jJTbNfDgScSR"
      }
    },
    {
      "cell_type": "code",
      "source": [
        "# Creating a list of student names\n",
        "student_names = [\"Alice\", \"Bob\", \"Charlie\", \"David\", \"Charlie\"]\n",
        "\n",
        "# Adding a student to the list\n",
        "student_names.append(\"Eve\")\n",
        "\n",
        "# Removing a student from the list\n",
        "student_names.remove(\"Bob\")\n",
        "\n",
        "# Iterating through the list of student names\n",
        "for name in student_names:\n",
        "    print(name)"
      ],
      "metadata": {
        "colab": {
          "base_uri": "https://localhost:8080/"
        },
        "id": "rftuAV3OSVPP",
        "outputId": "2d79a9ca-8f53-44be-8507-050259c2dd1a"
      },
      "execution_count": null,
      "outputs": [
        {
          "output_type": "stream",
          "name": "stdout",
          "text": [
            "Alice\n",
            "Charlie\n",
            "David\n",
            "Charlie\n",
            "Eve\n"
          ]
        }
      ]
    },
    {
      "cell_type": "markdown",
      "source": [
        "##Dictionaries\n",
        "Ordering: Dictionaries are unordered collections.\n",
        "Mutability: Dictionaries are mutable; they can be modified after creation.\n",
        "Duplicates: Dictionaries do not allow duplicate keys, but values can be duplicated.\n",
        "Structure: Dictionaries consist of **key-value pairs**.\n",
        "Syntax: Dictionaries are created using curly brackets **{} **with **key-value pairs separated by colons**.\n",
        "Dictionaries are useful for storing key-value pairs and efficiently accessing values using their keys."
      ],
      "metadata": {
        "id": "PxHAXspETEC0"
      }
    },
    {
      "cell_type": "code",
      "source": [
        "# Creating a dictionary that maps student names to their ages\n",
        "student_ages = {\"Alice\": 20, \"Bob\": 22, \"Charlie\": 21}\n",
        "\n",
        "# Adding a new student to the dictionary\n",
        "student_ages[\"David\"] = 23\n",
        "\n",
        "# Updating a student's age\n",
        "student_ages[\"Alice\"] = 21\n",
        "\n",
        "# Iterating through the dictionary and printing student names and ages\n",
        "for name, age in student_ages.items():\n",
        "    print(name, \"is\", age, \"years old\")"
      ],
      "metadata": {
        "colab": {
          "base_uri": "https://localhost:8080/"
        },
        "id": "QUtHDHTpTG4E",
        "outputId": "5fd86fe5-8f60-42d3-b250-53bb9f96c6c9"
      },
      "execution_count": null,
      "outputs": [
        {
          "output_type": "stream",
          "name": "stdout",
          "text": [
            "Alice is 21 years old\n",
            "Bob is 22 years old\n",
            "Charlie is 21 years old\n",
            "David is 23 years old\n"
          ]
        }
      ]
    },
    {
      "cell_type": "markdown",
      "source": [
        "##Tuples\n",
        "Ordering: Tuples are ordered collections.\n",
        "Mutability: Tuples are immutable; they cannot be modified after creation.\n",
        "Duplicates: Tuples allow duplicate elements.\n",
        "Syntax: Tuples are created using round brackets **()**.\n",
        "Tuples are useful when you have a fixed collection of items that should not change throughout the program's execution."
      ],
      "metadata": {
        "id": "WSoE_3g_St85"
      }
    },
    {
      "cell_type": "code",
      "source": [
        "# Defining coordinates as a tuple\n",
        "coordinates = (12.34, 56.78)\n",
        "\n",
        "# Accessing the longitude and latitude\n",
        "longitude, latitude = coordinates\n",
        "\n",
        "# Tuples can be used as keys in dictionaries\n",
        "capital_cities = {(\"United States\", \"California\"): \"Sacramento\", (\"France\", \"Île-de-France\"): \"Paris\"}\n",
        "\n",
        "# Accessing the capital city of California, United States\n",
        "capital = capital_cities[(\"United States\", \"California\")]\n",
        "print(capital)"
      ],
      "metadata": {
        "colab": {
          "base_uri": "https://localhost:8080/"
        },
        "id": "GWObj00ZSkOH",
        "outputId": "2fca3a83-e00c-4543-dff7-1c2fde452aad"
      },
      "execution_count": null,
      "outputs": [
        {
          "output_type": "stream",
          "name": "stdout",
          "text": [
            "Sacramento\n"
          ]
        }
      ]
    },
    {
      "cell_type": "markdown",
      "source": [
        "##Sets\n",
        "Ordering: Sets are unordered collections.\n",
        "Mutability: Sets are mutable; they can be modified after creation.\n",
        "Duplicates: Sets do not allow duplicate elements.\n",
        "Syntax: Sets are created using curly brackets **{}**.\n",
        "Sets are useful for efficiently storing unique values and performing set operations."
      ],
      "metadata": {
        "id": "m83MV3ziS0tr"
      }
    },
    {
      "cell_type": "code",
      "source": [
        "# Creating sets of unique hobbies for two people\n",
        "hobbies_alice = {\"reading\", \"hiking\", \"cooking\"}\n",
        "hobbies_bob = {\"cooking\", \"painting\", \"cycling\"}\n",
        "\n",
        "# Finding common hobbies\n",
        "common_hobbies = hobbies_alice.intersection(hobbies_bob)\n",
        "print(\"Common hobbies:\", common_hobbies)\n",
        "\n",
        "# Finding the union of hobbies\n",
        "all_hobbies = hobbies_alice.union(hobbies_bob)\n",
        "print(\"All hobbies:\", all_hobbies)"
      ],
      "metadata": {
        "colab": {
          "base_uri": "https://localhost:8080/"
        },
        "id": "MTyXQ6cPS5b7",
        "outputId": "1b5b3678-36bc-4c38-8730-359a1e2d6d44"
      },
      "execution_count": null,
      "outputs": [
        {
          "output_type": "stream",
          "name": "stdout",
          "text": [
            "Common hobbies: {'cooking'}\n",
            "All hobbies: {'cooking', 'painting', 'cycling', 'hiking', 'reading'}\n"
          ]
        }
      ]
    },
    {
      "cell_type": "markdown",
      "source": [
        "##**Defining and calling functions**\n",
        "To define a function in Python, use the def statement, followed by a function name, parentheses (), and a colon :. The function body is indented, usually by 4 spaces. Functions can return values using the return statement. And to call a function, simply use the function's name followed by parentheses ()."
      ],
      "metadata": {
        "id": "94lz7lvwIkZZ"
      }
    },
    {
      "cell_type": "code",
      "source": [
        "def add_numbers(a, b):\n",
        "    return a + b"
      ],
      "metadata": {
        "id": "TKCDiidPH4Yc"
      },
      "execution_count": null,
      "outputs": []
    },
    {
      "cell_type": "code",
      "source": [
        "def absolute(value):\n",
        "  if value > 0:\n",
        "    return value\n",
        "  return value * -1"
      ],
      "metadata": {
        "id": "c7W1ZG85K94R"
      },
      "execution_count": null,
      "outputs": []
    },
    {
      "cell_type": "code",
      "source": [
        "absolute(10)"
      ],
      "metadata": {
        "colab": {
          "base_uri": "https://localhost:8080/"
        },
        "id": "71Wxe3JDLR84",
        "outputId": "cd01c661-0ce6-4b18-881c-fc331260be54"
      },
      "execution_count": null,
      "outputs": [
        {
          "output_type": "execute_result",
          "data": {
            "text/plain": [
              "10"
            ]
          },
          "metadata": {},
          "execution_count": 10
        }
      ]
    },
    {
      "cell_type": "code",
      "source": [
        "def absolute(value):\n",
        "  if value > 0:\n",
        "    return value\n",
        "  return value * -1"
      ],
      "metadata": {
        "id": "Zsa08sBuJvL9"
      },
      "execution_count": null,
      "outputs": []
    },
    {
      "cell_type": "markdown",
      "source": [
        "##Arguments and Parameters\n",
        "Functions can have input values, called arguments, which are passed to the function when it is called. Within the function, these input values are known as parameters. Parameters are defined within the parentheses () in the function definition, and arguments are passed to the function within the parentheses when calling the function."
      ],
      "metadata": {
        "id": "YI0z5tPVL3gh"
      }
    },
    {
      "cell_type": "code",
      "source": [
        "def addition(x, y):\n",
        "  return x + y\n",
        "\n",
        "def substraction(x, y):\n",
        "  return x - y"
      ],
      "metadata": {
        "id": "8kew_yXELyPD"
      },
      "execution_count": null,
      "outputs": []
    },
    {
      "cell_type": "code",
      "source": [
        "addition(3,5)\n",
        "substraction(4,6)"
      ],
      "metadata": {
        "colab": {
          "base_uri": "https://localhost:8080/"
        },
        "id": "Cf10ni6ENAFt",
        "outputId": "ceeb8d29-1a3d-4512-b6ee-aa9c0c0cdd21"
      },
      "execution_count": null,
      "outputs": [
        {
          "output_type": "execute_result",
          "data": {
            "text/plain": [
              "-2"
            ]
          },
          "metadata": {},
          "execution_count": 17
        }
      ]
    },
    {
      "cell_type": "code",
      "source": [
        "addition(3,5)\n"
      ],
      "metadata": {
        "colab": {
          "base_uri": "https://localhost:8080/"
        },
        "id": "lQEUSHTaMpAl",
        "outputId": "b4f25657-38fa-4469-8f6e-4e9079f10744"
      },
      "execution_count": null,
      "outputs": [
        {
          "output_type": "execute_result",
          "data": {
            "text/plain": [
              "8"
            ]
          },
          "metadata": {},
          "execution_count": 14
        }
      ]
    },
    {
      "cell_type": "code",
      "source": [
        "substraction(4,6)"
      ],
      "metadata": {
        "colab": {
          "base_uri": "https://localhost:8080/"
        },
        "id": "r3qbsUAhMwN1",
        "outputId": "5a96dbe1-a28f-46a4-c4f4-3f3fc999baf8"
      },
      "execution_count": null,
      "outputs": [
        {
          "output_type": "execute_result",
          "data": {
            "text/plain": [
              "-2"
            ]
          },
          "metadata": {},
          "execution_count": 15
        }
      ]
    },
    {
      "cell_type": "markdown",
      "source": [
        "##Lambda functions\n",
        "Lambda functions, also known as anonymous functions, are small, single-expression functions in Python that you can define using the lambda keyword. They are useful for short, simple operations and can be defined in one line. Lambda functions are useful when working with functions like map(), filter() or sorted(), where a small function needs to be passed."
      ],
      "metadata": {
        "id": "1QJIdvbdNdg1"
      }
    },
    {
      "cell_type": "code",
      "source": [
        "# A lambda function to add two numbers:\n",
        "add = lambda x, y: x + y\n",
        "result1 = add(5, 3)\n",
        "print(result1)\n",
        "\n",
        "# A lambda function to find the square of a number:\n",
        "square = lambda x: x**2\n",
        "result2 = square(4)\n",
        "print(result2)\n",
        "\n",
        "# sorting a list of strings by length:\n",
        "text_list = [\"apple\", \"banana\", \"cherry\", \"kiwi\"]\n",
        "sorted_list = sorted(text_list, key=lambda x: len(x))\n",
        "print(sorted_list)"
      ],
      "metadata": {
        "colab": {
          "base_uri": "https://localhost:8080/"
        },
        "id": "aCUawpbmM9Ej",
        "outputId": "e79a3f6a-1f61-4e8f-8578-5c86f32daafd"
      },
      "execution_count": null,
      "outputs": [
        {
          "output_type": "stream",
          "name": "stdout",
          "text": [
            "8\n",
            "16\n",
            "['kiwi', 'apple', 'banana', 'cherry']\n"
          ]
        }
      ]
    },
    {
      "cell_type": "code",
      "source": [
        "add = lambda x, y: x + y\n",
        "result1 = add(5, 3)\n",
        "print(result1)"
      ],
      "metadata": {
        "colab": {
          "base_uri": "https://localhost:8080/"
        },
        "id": "8wmNaVPPNnIH",
        "outputId": "de668452-258b-467e-a30e-e78a4d75e9d6"
      },
      "execution_count": null,
      "outputs": [
        {
          "output_type": "stream",
          "name": "stdout",
          "text": [
            "8\n"
          ]
        }
      ]
    },
    {
      "cell_type": "code",
      "source": [
        "def addition(x, y):\n",
        "  return x + y"
      ],
      "metadata": {
        "id": "sE47ERR1NtnZ"
      },
      "execution_count": null,
      "outputs": []
    },
    {
      "cell_type": "code",
      "source": [
        "result = addition(5, 3)"
      ],
      "metadata": {
        "id": "_JjzVMrbNvmd"
      },
      "execution_count": null,
      "outputs": []
    },
    {
      "cell_type": "code",
      "source": [
        "result"
      ],
      "metadata": {
        "colab": {
          "base_uri": "https://localhost:8080/"
        },
        "id": "8a8rgLKkNywE",
        "outputId": "63666287-630e-47a9-aec3-d00ce095f3ee"
      },
      "execution_count": null,
      "outputs": [
        {
          "output_type": "execute_result",
          "data": {
            "text/plain": [
              "8"
            ]
          },
          "metadata": {},
          "execution_count": 36
        }
      ]
    },
    {
      "cell_type": "code",
      "source": [
        "result == None"
      ],
      "metadata": {
        "colab": {
          "base_uri": "https://localhost:8080/"
        },
        "id": "O1cjbC9JNzf9",
        "outputId": "8df4806a-1a80-4898-b8de-49675fa9abdb"
      },
      "execution_count": null,
      "outputs": [
        {
          "output_type": "execute_result",
          "data": {
            "text/plain": [
              "False"
            ]
          },
          "metadata": {},
          "execution_count": 37
        }
      ]
    },
    {
      "cell_type": "code",
      "source": [
        "type(result)"
      ],
      "metadata": {
        "colab": {
          "base_uri": "https://localhost:8080/"
        },
        "id": "a1L7xyirOXbi",
        "outputId": "bbb869b1-cba4-444c-ccc4-545fe498dded"
      },
      "execution_count": null,
      "outputs": [
        {
          "output_type": "execute_result",
          "data": {
            "text/plain": [
              "int"
            ]
          },
          "metadata": {},
          "execution_count": 38
        }
      ]
    },
    {
      "cell_type": "code",
      "source": [
        "def addition2(x, y):\n",
        "  print(x+y)"
      ],
      "metadata": {
        "id": "CPakXpPxN4mM"
      },
      "execution_count": null,
      "outputs": []
    },
    {
      "cell_type": "code",
      "source": [
        "result1 = addition2(5, 3)"
      ],
      "metadata": {
        "colab": {
          "base_uri": "https://localhost:8080/"
        },
        "id": "6g6skZksOBIm",
        "outputId": "87f1d386-09d9-438d-d2b5-edf7470e6c63"
      },
      "execution_count": null,
      "outputs": [
        {
          "output_type": "stream",
          "name": "stdout",
          "text": [
            "8\n"
          ]
        }
      ]
    },
    {
      "cell_type": "code",
      "source": [
        "result1"
      ],
      "metadata": {
        "id": "0SEW5iGwOJw4"
      },
      "execution_count": null,
      "outputs": []
    },
    {
      "cell_type": "code",
      "source": [
        "result1 == None"
      ],
      "metadata": {
        "colab": {
          "base_uri": "https://localhost:8080/"
        },
        "id": "WvijhcqYOMFk",
        "outputId": "3c587ed4-0d19-499e-fad0-248f7e227f24"
      },
      "execution_count": null,
      "outputs": [
        {
          "output_type": "execute_result",
          "data": {
            "text/plain": [
              "True"
            ]
          },
          "metadata": {},
          "execution_count": 30
        }
      ]
    },
    {
      "cell_type": "code",
      "source": [
        "type(result1)"
      ],
      "metadata": {
        "colab": {
          "base_uri": "https://localhost:8080/"
        },
        "id": "6ov3HQG6OP02",
        "outputId": "baccf3a0-bc23-44b0-c2db-307e4b9a19dd"
      },
      "execution_count": null,
      "outputs": [
        {
          "output_type": "execute_result",
          "data": {
            "text/plain": [
              "NoneType"
            ]
          },
          "metadata": {},
          "execution_count": 31
        }
      ]
    },
    {
      "cell_type": "markdown",
      "source": [
        "##Built-in functions\n",
        "Python comes with numerous built-in functions that are readily available for use. These are just a few examples of the built-in functions available in Python that are commonly used. There are many other built-in functions that can save time and simplify code when working with data. Refer to the official Python documentation for the complete list: Python Built-in Functions"
      ],
      "metadata": {
        "id": "1emu1IEHPH8w"
      }
    },
    {
      "cell_type": "markdown",
      "source": [
        "##sorted()\n",
        "sorted(iterable, *, key=None, reverse=False): Returns a new sorted list from the specified iterable."
      ],
      "metadata": {
        "id": "CPrG2VttPNQa"
      }
    },
    {
      "cell_type": "code",
      "source": [
        "my_list = [3, 2, 5, 1, 4]\n",
        "sorted_list = sorted(my_list)\n",
        "print(sorted_list)"
      ],
      "metadata": {
        "colab": {
          "base_uri": "https://localhost:8080/"
        },
        "id": "2wZpqCkiQvp6",
        "outputId": "15ffd71f-5825-49dc-eb0d-85ba9a56a874"
      },
      "execution_count": null,
      "outputs": [
        {
          "output_type": "stream",
          "name": "stdout",
          "text": [
            "[1, 2, 3, 4, 5]\n"
          ]
        }
      ]
    },
    {
      "cell_type": "markdown",
      "source": [
        "##map()\n",
        "map(function, iterable): Applies a given function to all items in the input iterable, such as lists or tuples, and returns an iterable of the results."
      ],
      "metadata": {
        "id": "7jOS7NJ4Q06n"
      }
    },
    {
      "cell_type": "code",
      "source": [
        "i=1\n",
        "result = []\n",
        "\n",
        "for i in range(1,6):\n",
        "  result.append(i**2)\n",
        "\n",
        "print(result)"
      ],
      "metadata": {
        "colab": {
          "base_uri": "https://localhost:8080/"
        },
        "id": "mVw0tgtLPO5L",
        "outputId": "ff79fd0c-54d1-4015-fbdc-4b7029e55336"
      },
      "execution_count": null,
      "outputs": [
        {
          "output_type": "stream",
          "name": "stdout",
          "text": [
            "[1, 4, 9, 16, 25]\n"
          ]
        }
      ]
    },
    {
      "cell_type": "code",
      "source": [
        "numbers = range(1,6)\n",
        "squares = list(map(lambda x: x**2, numbers))\n",
        "print(squares)"
      ],
      "metadata": {
        "colab": {
          "base_uri": "https://localhost:8080/"
        },
        "id": "ECDFpcEdOVzE",
        "outputId": "85f5301b-da87-44bf-b9fa-ed4658d206fd"
      },
      "execution_count": null,
      "outputs": [
        {
          "output_type": "stream",
          "name": "stdout",
          "text": [
            "[1, 4, 9, 16, 25]\n"
          ]
        }
      ]
    },
    {
      "cell_type": "markdown",
      "source": [
        "##filter()\n",
        "filter(function, iterable): Filters the elements from an iterable, passing only those elements for which the input function returns True."
      ],
      "metadata": {
        "id": "YSpHi7JCQ_dN"
      }
    },
    {
      "cell_type": "code",
      "source": [
        "numbers = [1, 2, 3, 4, 5]\n",
        "even_numbers = list(filter(lambda x: x % 2 == 0, numbers))\n",
        "print(even_numbers)"
      ],
      "metadata": {
        "colab": {
          "base_uri": "https://localhost:8080/"
        },
        "id": "-rXpNHDhOz7Q",
        "outputId": "2a15de26-b23f-47ef-8752-50d3401141ca"
      },
      "execution_count": null,
      "outputs": [
        {
          "output_type": "stream",
          "name": "stdout",
          "text": [
            "[2, 4]\n"
          ]
        }
      ]
    },
    {
      "cell_type": "markdown",
      "source": [
        "##zip()\n",
        "zip(*iterables): Combines multiple iterables, like lists or tuples, into a single iterable, pairing elements at the same index in each input iterable."
      ],
      "metadata": {
        "id": "lxNTSQjVRWJL"
      }
    },
    {
      "cell_type": "code",
      "source": [
        "names = [\"Alice\", \"Bob\", \"Carol\"]\n",
        "ages = [30, 25, 28]\n",
        "combined = list(zip(names, ages))\n",
        "print(combined)"
      ],
      "metadata": {
        "colab": {
          "base_uri": "https://localhost:8080/"
        },
        "id": "WZrlx8e-RIGI",
        "outputId": "8b130bbc-9c42-4a54-ae31-1ba6581feb0e"
      },
      "execution_count": null,
      "outputs": [
        {
          "output_type": "stream",
          "name": "stdout",
          "text": [
            "[('Alice', 30), ('Bob', 25), ('Carol', 28)]\n"
          ]
        }
      ]
    },
    {
      "cell_type": "code",
      "source": [
        "type(combined[0])"
      ],
      "metadata": {
        "id": "M1Ha0Q1NRQl0",
        "colab": {
          "base_uri": "https://localhost:8080/"
        },
        "outputId": "7e3b158f-1273-4510-9fa6-d144b9d9e7ce"
      },
      "execution_count": null,
      "outputs": [
        {
          "output_type": "execute_result",
          "data": {
            "text/plain": [
              "tuple"
            ]
          },
          "metadata": {},
          "execution_count": 5
        }
      ]
    },
    {
      "cell_type": "code",
      "source": [
        "type(combined)"
      ],
      "metadata": {
        "id": "C2bhYp6Qelgi",
        "outputId": "346a6352-7b54-42e1-d543-c4174c7faf17",
        "colab": {
          "base_uri": "https://localhost:8080/"
        }
      },
      "execution_count": null,
      "outputs": [
        {
          "output_type": "execute_result",
          "data": {
            "text/plain": [
              "list"
            ]
          },
          "metadata": {},
          "execution_count": 6
        }
      ]
    }
  ]
}